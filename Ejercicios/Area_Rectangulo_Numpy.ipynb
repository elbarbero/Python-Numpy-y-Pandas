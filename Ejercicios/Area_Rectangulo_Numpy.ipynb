{
 "cells": [
  {
   "cell_type": "code",
   "execution_count": 1,
   "id": "90790f43-0330-41f4-8521-190cf1cc91b4",
   "metadata": {},
   "outputs": [],
   "source": [
    "import numpy as np"
   ]
  },
  {
   "cell_type": "code",
   "execution_count": 2,
   "id": "e7a1564c-c7a4-47f8-b0bc-9b3198ac944a",
   "metadata": {},
   "outputs": [],
   "source": [
    "bases_rec = np.array([5,2,4,7,8])\n",
    "alturas_rec = np.array([3,4,1,4,3])"
   ]
  },
  {
   "cell_type": "code",
   "execution_count": 3,
   "id": "811ea5b0-0407-4953-8b52-616773f454ee",
   "metadata": {},
   "outputs": [],
   "source": [
    "area_rec = bases_rec*alturas_rec"
   ]
  },
  {
   "cell_type": "code",
   "execution_count": 4,
   "id": "c6d839da-f3fc-4ae5-b46f-8a471be08349",
   "metadata": {},
   "outputs": [
    {
     "data": {
      "text/plain": [
       "array([15,  8,  4, 28, 24])"
      ]
     },
     "execution_count": 4,
     "metadata": {},
     "output_type": "execute_result"
    }
   ],
   "source": [
    "area_rec"
   ]
  },
  {
   "cell_type": "code",
   "execution_count": 5,
   "id": "5101879a-6a8a-42e1-8187-116064bc31c0",
   "metadata": {},
   "outputs": [
    {
     "data": {
      "text/plain": [
       "array([15, 28, 24])"
      ]
     },
     "execution_count": 5,
     "metadata": {},
     "output_type": "execute_result"
    }
   ],
   "source": [
    "area_rec[area_rec>10]"
   ]
  },
  {
   "cell_type": "code",
   "execution_count": 6,
   "id": "66b54f5d-ffe0-4cce-abaa-bc24b939c8a1",
   "metadata": {},
   "outputs": [],
   "source": [
    "a = [2, 5, 7]\n",
    "b = [5, 6, 3]"
   ]
  },
  {
   "cell_type": "code",
   "execution_count": 7,
   "id": "85e6d5a6-0c3a-47f8-b621-57bb5bb28c7d",
   "metadata": {},
   "outputs": [
    {
     "data": {
      "text/plain": [
       "[2, 5, 7, 5, 6, 3]"
      ]
     },
     "execution_count": 7,
     "metadata": {},
     "output_type": "execute_result"
    }
   ],
   "source": [
    "a + b"
   ]
  },
  {
   "cell_type": "code",
   "execution_count": 8,
   "id": "e9df1e83-2486-440d-9feb-c8dbfa39df96",
   "metadata": {},
   "outputs": [],
   "source": [
    "a = np.array([2, 5, 7])\n",
    "b = np.array([5, 6, 3])"
   ]
  },
  {
   "cell_type": "code",
   "execution_count": 9,
   "id": "b64d6dc6-d10d-4e50-9a21-03c7dabdf80d",
   "metadata": {},
   "outputs": [
    {
     "data": {
      "text/plain": [
       "array([ 7, 11, 10])"
      ]
     },
     "execution_count": 9,
     "metadata": {},
     "output_type": "execute_result"
    }
   ],
   "source": [
    "a + b"
   ]
  },
  {
   "cell_type": "code",
   "execution_count": null,
   "id": "1652261e-0482-40f2-a4af-7c9159788c1e",
   "metadata": {},
   "outputs": [],
   "source": []
  }
 ],
 "metadata": {
  "kernelspec": {
   "display_name": "Python 3 (ipykernel)",
   "language": "python",
   "name": "python3"
  },
  "language_info": {
   "codemirror_mode": {
    "name": "ipython",
    "version": 3
   },
   "file_extension": ".py",
   "mimetype": "text/x-python",
   "name": "python",
   "nbconvert_exporter": "python",
   "pygments_lexer": "ipython3",
   "version": "3.12.4"
  }
 },
 "nbformat": 4,
 "nbformat_minor": 5
}
