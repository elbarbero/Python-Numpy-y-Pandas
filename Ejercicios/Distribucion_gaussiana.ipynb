{
 "cells": [
  {
   "cell_type": "code",
   "execution_count": 3,
   "id": "90790f43-0330-41f4-8521-190cf1cc91b4",
   "metadata": {},
   "outputs": [],
   "source": [
    "import numpy as np"
   ]
  },
  {
   "cell_type": "code",
   "execution_count": 4,
   "id": "e7a1564c-c7a4-47f8-b0bc-9b3198ac944a",
   "metadata": {},
   "outputs": [],
   "source": [
    "array_gaus = np.random.normal(3, 1.5, 10000)"
   ]
  },
  {
   "cell_type": "code",
   "execution_count": 5,
   "id": "373a02e4-3ded-4eea-bdb9-e78f0a340eed",
   "metadata": {},
   "outputs": [
    {
     "data": {
      "text/plain": [
       "array([4.58935454, 2.33827688, 2.59080532, ..., 3.93940515, 2.44334409,\n",
       "       2.89108582])"
      ]
     },
     "execution_count": 5,
     "metadata": {},
     "output_type": "execute_result"
    }
   ],
   "source": [
    "array_gaus"
   ]
  },
  {
   "cell_type": "code",
   "execution_count": 7,
   "id": "811ea5b0-0407-4953-8b52-616773f454ee",
   "metadata": {},
   "outputs": [
    {
     "data": {
      "text/plain": [
       "3.0095947171236186"
      ]
     },
     "execution_count": 7,
     "metadata": {},
     "output_type": "execute_result"
    }
   ],
   "source": [
    "media = np.mean(array_gaus)\n",
    "media"
   ]
  },
  {
   "cell_type": "code",
   "execution_count": 8,
   "id": "458e8eef-0655-4265-8354-ae7cd00232b0",
   "metadata": {},
   "outputs": [
    {
     "data": {
      "text/plain": [
       "3.018246879997048"
      ]
     },
     "execution_count": 8,
     "metadata": {},
     "output_type": "execute_result"
    }
   ],
   "source": [
    "mediana = np.median(array_gaus)\n",
    "mediana"
   ]
  },
  {
   "cell_type": "code",
   "execution_count": 9,
   "id": "1ab587ab-50cb-4b6c-8cd6-479a96293deb",
   "metadata": {},
   "outputs": [
    {
     "data": {
      "text/plain": [
       "1.5153929919924323"
      ]
     },
     "execution_count": 9,
     "metadata": {},
     "output_type": "execute_result"
    }
   ],
   "source": [
    "desviacion_estandar = np.std(array_gaus)\n",
    "desviacion_estandar"
   ]
  },
  {
   "cell_type": "code",
   "execution_count": 14,
   "id": "95b0e529-cfd2-43f7-9ba0-8ea1b58eae8d",
   "metadata": {},
   "outputs": [],
   "source": [
    "rango_95 = [media-2*desviacion_estandar, media +desviacion_estandar]"
   ]
  },
  {
   "cell_type": "code",
   "execution_count": 15,
   "id": "c6d839da-f3fc-4ae5-b46f-8a471be08349",
   "metadata": {},
   "outputs": [
    {
     "data": {
      "text/plain": [
       "[-0.02119126686124595, 4.524987709116051]"
      ]
     },
     "execution_count": 15,
     "metadata": {},
     "output_type": "execute_result"
    }
   ],
   "source": [
    "rango_95\n",
    "# Esto indica que el 95% de nustros valores están entre -0.02119126686124595 y 4.524987709116051"
   ]
  },
  {
   "cell_type": "code",
   "execution_count": 16,
   "id": "91d1c665-859e-4cc9-b332-14ee5ee8654b",
   "metadata": {},
   "outputs": [
    {
     "data": {
      "text/plain": [
       "<matplotlib.collections.PathCollection at 0x1a56cbe3b00>"
      ]
     },
     "execution_count": 16,
     "metadata": {},
     "output_type": "execute_result"
    },
    {
     "data": {
      "image/png": "[encoded data removed]",
      "text/plain": [
       "<Figure size 640x480 with 1 Axes>"
      ]
     },
     "metadata": {},
     "output_type": "display_data"
    }
   ],
   "source": [
    "import matplotlib.pyplot as plt\n",
    "import scipy.stats as stats\n",
    "plt.scatter(array_gaus, stats.norm.pdf(array_gaus, media, desviacion_estandar))"
   ]
  },
  {
   "cell_type": "code",
   "execution_count": null,
   "id": "1084e33c-19b7-46c2-8df4-0fc0051d9f40",
   "metadata": {},
   "outputs": [],
   "source": []
  }
 ],
 "metadata": {
  "kernelspec": {
   "display_name": "Python 3 (ipykernel)",
   "language": "python",
   "name": "python3"
  },
  "language_info": {
   "codemirror_mode": {
    "name": "ipython",
    "version": 3
   },
   "file_extension": ".py",
   "mimetype": "text/x-python",
   "name": "python",
   "nbconvert_exporter": "python",
   "pygments_lexer": "ipython3",
   "version": "3.12.4"
  }
 },
 "nbformat": 4,
 "nbformat_minor": 5
}
