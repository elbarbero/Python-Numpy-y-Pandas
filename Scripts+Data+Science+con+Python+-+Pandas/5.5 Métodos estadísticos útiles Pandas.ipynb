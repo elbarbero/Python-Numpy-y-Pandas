{
 "cells": [
  {
   "cell_type": "code",
   "execution_count": 56,
   "metadata": {},
   "outputs": [],
   "source": [
    "import pandas as pd\n",
    "import numpy as np"
   ]
  },
  {
   "cell_type": "code",
   "execution_count": 57,
   "metadata": {},
   "outputs": [],
   "source": [
    "dic_alumnos = {\"Nombre\":[\"Javier\", \"Marta\", \"Lucía\", \"Pedro\",\"Juan\",\"María\"],\n",
    "              \"Evaluación Matemáticas\":[5,7,8,4,10,np.NaN],\n",
    "              \"Evaluación Lengua\":[8,9,7,5,8,6]}"
   ]
  },
  {
   "cell_type": "code",
   "execution_count": 58,
   "metadata": {},
   "outputs": [],
   "source": [
    "df_alumnos = pd.DataFrame(dic_alumnos)"
   ]
  },
  {
   "cell_type": "code",
   "execution_count": 61,
   "metadata": {},
   "outputs": [
    {
     "data": {
      "text/html": [
       "<div>\n",
       "<style scoped>\n",
       "    .dataframe tbody tr th:only-of-type {\n",
       "        vertical-align: middle;\n",
       "    }\n",
       "\n",
       "    .dataframe tbody tr th {\n",
       "        vertical-align: top;\n",
       "    }\n",
       "\n",
       "    .dataframe thead th {\n",
       "        text-align: right;\n",
       "    }\n",
       "</style>\n",
       "<table border=\"1\" class=\"dataframe\">\n",
       "  <thead>\n",
       "    <tr style=\"text-align: right;\">\n",
       "      <th></th>\n",
       "      <th>Nombre</th>\n",
       "      <th>Evaluación Matemáticas</th>\n",
       "      <th>Evaluación Lengua</th>\n",
       "    </tr>\n",
       "  </thead>\n",
       "  <tbody>\n",
       "    <tr>\n",
       "      <td>0</td>\n",
       "      <td>Javier</td>\n",
       "      <td>5.0</td>\n",
       "      <td>8</td>\n",
       "    </tr>\n",
       "    <tr>\n",
       "      <td>1</td>\n",
       "      <td>Marta</td>\n",
       "      <td>7.0</td>\n",
       "      <td>9</td>\n",
       "    </tr>\n",
       "    <tr>\n",
       "      <td>2</td>\n",
       "      <td>Lucía</td>\n",
       "      <td>8.0</td>\n",
       "      <td>7</td>\n",
       "    </tr>\n",
       "    <tr>\n",
       "      <td>3</td>\n",
       "      <td>Pedro</td>\n",
       "      <td>4.0</td>\n",
       "      <td>5</td>\n",
       "    </tr>\n",
       "    <tr>\n",
       "      <td>4</td>\n",
       "      <td>Juan</td>\n",
       "      <td>10.0</td>\n",
       "      <td>8</td>\n",
       "    </tr>\n",
       "    <tr>\n",
       "      <td>5</td>\n",
       "      <td>María</td>\n",
       "      <td>NaN</td>\n",
       "      <td>6</td>\n",
       "    </tr>\n",
       "  </tbody>\n",
       "</table>\n",
       "</div>"
      ],
      "text/plain": [
       "   Nombre  Evaluación Matemáticas  Evaluación Lengua\n",
       "0  Javier                     5.0                  8\n",
       "1   Marta                     7.0                  9\n",
       "2   Lucía                     8.0                  7\n",
       "3   Pedro                     4.0                  5\n",
       "4    Juan                    10.0                  8\n",
       "5   María                     NaN                  6"
      ]
     },
     "execution_count": 61,
     "metadata": {},
     "output_type": "execute_result"
    }
   ],
   "source": [
    "df_alumnos.head(10)"
   ]
  },
  {
   "cell_type": "code",
   "execution_count": 62,
   "metadata": {},
   "outputs": [
    {
     "data": {
      "text/plain": [
       "(6, 3)"
      ]
     },
     "execution_count": 62,
     "metadata": {},
     "output_type": "execute_result"
    }
   ],
   "source": [
    "df_alumnos.shape"
   ]
  },
  {
   "cell_type": "code",
   "execution_count": 63,
   "metadata": {},
   "outputs": [
    {
     "data": {
      "text/plain": [
       "RangeIndex(start=0, stop=6, step=1)"
      ]
     },
     "execution_count": 63,
     "metadata": {},
     "output_type": "execute_result"
    }
   ],
   "source": [
    "df_alumnos.index"
   ]
  },
  {
   "cell_type": "code",
   "execution_count": 64,
   "metadata": {},
   "outputs": [
    {
     "data": {
      "text/plain": [
       "Index(['Nombre', 'Evaluación Matemáticas', 'Evaluación Lengua'], dtype='object')"
      ]
     },
     "execution_count": 64,
     "metadata": {},
     "output_type": "execute_result"
    }
   ],
   "source": [
    "df_alumnos.columns"
   ]
  },
  {
   "cell_type": "code",
   "execution_count": 65,
   "metadata": {},
   "outputs": [
    {
     "name": "stdout",
     "output_type": "stream",
     "text": [
      "<class 'pandas.core.frame.DataFrame'>\n",
      "RangeIndex: 6 entries, 0 to 5\n",
      "Data columns (total 3 columns):\n",
      "Nombre                    6 non-null object\n",
      "Evaluación Matemáticas    5 non-null float64\n",
      "Evaluación Lengua         6 non-null int64\n",
      "dtypes: float64(1), int64(1), object(1)\n",
      "memory usage: 272.0+ bytes\n"
     ]
    }
   ],
   "source": [
    "df_alumnos.info()"
   ]
  },
  {
   "cell_type": "code",
   "execution_count": 66,
   "metadata": {},
   "outputs": [
    {
     "data": {
      "text/plain": [
       "Nombre                    6\n",
       "Evaluación Matemáticas    5\n",
       "Evaluación Lengua         6\n",
       "dtype: int64"
      ]
     },
     "execution_count": 66,
     "metadata": {},
     "output_type": "execute_result"
    }
   ],
   "source": [
    "df_alumnos.count()"
   ]
  },
  {
   "cell_type": "code",
   "execution_count": 67,
   "metadata": {},
   "outputs": [
    {
     "data": {
      "text/plain": [
       "6.8"
      ]
     },
     "execution_count": 67,
     "metadata": {},
     "output_type": "execute_result"
    }
   ],
   "source": [
    "df_alumnos[\"Evaluación Matemáticas\"].mean()"
   ]
  },
  {
   "cell_type": "code",
   "execution_count": 68,
   "metadata": {},
   "outputs": [
    {
     "data": {
      "text/plain": [
       "8.4"
      ]
     },
     "execution_count": 68,
     "metadata": {},
     "output_type": "execute_result"
    }
   ],
   "source": [
    "df_alumnos[\"Evaluación Matemáticas\"].quantile(0.8)"
   ]
  },
  {
   "cell_type": "code",
   "execution_count": 70,
   "metadata": {},
   "outputs": [
    {
     "data": {
      "text/plain": [
       "4.0"
      ]
     },
     "execution_count": 70,
     "metadata": {},
     "output_type": "execute_result"
    }
   ],
   "source": [
    "df_alumnos[\"Evaluación Matemáticas\"].min()"
   ]
  },
  {
   "cell_type": "code",
   "execution_count": 71,
   "metadata": {},
   "outputs": [
    {
     "data": {
      "text/plain": [
       "10.0"
      ]
     },
     "execution_count": 71,
     "metadata": {},
     "output_type": "execute_result"
    }
   ],
   "source": [
    "df_alumnos[\"Evaluación Matemáticas\"].max()"
   ]
  },
  {
   "cell_type": "code",
   "execution_count": 72,
   "metadata": {},
   "outputs": [
    {
     "data": {
      "text/html": [
       "<div>\n",
       "<style scoped>\n",
       "    .dataframe tbody tr th:only-of-type {\n",
       "        vertical-align: middle;\n",
       "    }\n",
       "\n",
       "    .dataframe tbody tr th {\n",
       "        vertical-align: top;\n",
       "    }\n",
       "\n",
       "    .dataframe thead th {\n",
       "        text-align: right;\n",
       "    }\n",
       "</style>\n",
       "<table border=\"1\" class=\"dataframe\">\n",
       "  <thead>\n",
       "    <tr style=\"text-align: right;\">\n",
       "      <th></th>\n",
       "      <th>Evaluación Matemáticas</th>\n",
       "      <th>Evaluación Lengua</th>\n",
       "    </tr>\n",
       "  </thead>\n",
       "  <tbody>\n",
       "    <tr>\n",
       "      <td>count</td>\n",
       "      <td>5.000000</td>\n",
       "      <td>6.000000</td>\n",
       "    </tr>\n",
       "    <tr>\n",
       "      <td>mean</td>\n",
       "      <td>6.800000</td>\n",
       "      <td>7.166667</td>\n",
       "    </tr>\n",
       "    <tr>\n",
       "      <td>std</td>\n",
       "      <td>2.387467</td>\n",
       "      <td>1.471960</td>\n",
       "    </tr>\n",
       "    <tr>\n",
       "      <td>min</td>\n",
       "      <td>4.000000</td>\n",
       "      <td>5.000000</td>\n",
       "    </tr>\n",
       "    <tr>\n",
       "      <td>25%</td>\n",
       "      <td>5.000000</td>\n",
       "      <td>6.250000</td>\n",
       "    </tr>\n",
       "    <tr>\n",
       "      <td>50%</td>\n",
       "      <td>7.000000</td>\n",
       "      <td>7.500000</td>\n",
       "    </tr>\n",
       "    <tr>\n",
       "      <td>75%</td>\n",
       "      <td>8.000000</td>\n",
       "      <td>8.000000</td>\n",
       "    </tr>\n",
       "    <tr>\n",
       "      <td>max</td>\n",
       "      <td>10.000000</td>\n",
       "      <td>9.000000</td>\n",
       "    </tr>\n",
       "  </tbody>\n",
       "</table>\n",
       "</div>"
      ],
      "text/plain": [
       "       Evaluación Matemáticas  Evaluación Lengua\n",
       "count                5.000000           6.000000\n",
       "mean                 6.800000           7.166667\n",
       "std                  2.387467           1.471960\n",
       "min                  4.000000           5.000000\n",
       "25%                  5.000000           6.250000\n",
       "50%                  7.000000           7.500000\n",
       "75%                  8.000000           8.000000\n",
       "max                 10.000000           9.000000"
      ]
     },
     "execution_count": 72,
     "metadata": {},
     "output_type": "execute_result"
    }
   ],
   "source": [
    "df_alumnos.describe()"
   ]
  },
  {
   "cell_type": "code",
   "execution_count": null,
   "metadata": {},
   "outputs": [],
   "source": []
  },
  {
   "cell_type": "markdown",
   "metadata": {},
   "source": [
    "# Ejercicio"
   ]
  },
  {
   "cell_type": "code",
   "execution_count": 23,
   "metadata": {},
   "outputs": [],
   "source": [
    "df = pd.read_csv(r'C:\\Users\\ivan_pinar\\Dropbox\\Creación de MOCs\\MOC Master Python Análisis de Datos\\Datasets\\5.5\\PEATONES_2020_mod.csv', encoding = \"ISO-8859-1\",delimiter=\";\",index_col=2)"
   ]
  },
  {
   "cell_type": "markdown",
   "metadata": {},
   "source": [
    "# Información básica Dataframe"
   ]
  },
  {
   "cell_type": "code",
   "execution_count": 24,
   "metadata": {},
   "outputs": [
    {
     "data": {
      "text/html": [
       "<div>\n",
       "<style scoped>\n",
       "    .dataframe tbody tr th:only-of-type {\n",
       "        vertical-align: middle;\n",
       "    }\n",
       "\n",
       "    .dataframe tbody tr th {\n",
       "        vertical-align: top;\n",
       "    }\n",
       "\n",
       "    .dataframe thead th {\n",
       "        text-align: right;\n",
       "    }\n",
       "</style>\n",
       "<table border=\"1\" class=\"dataframe\">\n",
       "  <thead>\n",
       "    <tr style=\"text-align: right;\">\n",
       "      <th></th>\n",
       "      <th>FECHA</th>\n",
       "      <th>HORA</th>\n",
       "      <th>PEATONES</th>\n",
       "      <th>NÚMERO_DISTRITO</th>\n",
       "      <th>DISTRITO</th>\n",
       "      <th>NOMBRE_VIAL</th>\n",
       "      <th>NÚMERO</th>\n",
       "      <th>CÓDIGO_POSTAL</th>\n",
       "      <th>OBSERVACIONES_DIRECCION</th>\n",
       "      <th>LATITUD</th>\n",
       "      <th>LONGITUD</th>\n",
       "    </tr>\n",
       "    <tr>\n",
       "      <th>IDENTIFICADOR</th>\n",
       "      <th></th>\n",
       "      <th></th>\n",
       "      <th></th>\n",
       "      <th></th>\n",
       "      <th></th>\n",
       "      <th></th>\n",
       "      <th></th>\n",
       "      <th></th>\n",
       "      <th></th>\n",
       "      <th></th>\n",
       "      <th></th>\n",
       "    </tr>\n",
       "  </thead>\n",
       "  <tbody>\n",
       "    <tr>\n",
       "      <td>PERM_PEA02_PM01</td>\n",
       "      <td>01/01/2020</td>\n",
       "      <td>0:00:00</td>\n",
       "      <td>497.0</td>\n",
       "      <td>1.0</td>\n",
       "      <td>Centro</td>\n",
       "      <td>Calle Fuencarral</td>\n",
       "      <td>22.0</td>\n",
       "      <td>28004.0</td>\n",
       "      <td>Calle peatonal Datos en prueba</td>\n",
       "      <td>40,4220090</td>\n",
       "      <td>-3,7008917</td>\n",
       "    </tr>\n",
       "    <tr>\n",
       "      <td>PERM_PEA02_PM01</td>\n",
       "      <td>01/01/2020</td>\n",
       "      <td>0:15:00</td>\n",
       "      <td>244.0</td>\n",
       "      <td>1.0</td>\n",
       "      <td>Centro</td>\n",
       "      <td>Calle Fuencarral</td>\n",
       "      <td>22.0</td>\n",
       "      <td>28004.0</td>\n",
       "      <td>Calle peatonal Datos en prueba</td>\n",
       "      <td>40,4220090</td>\n",
       "      <td>-3,7008917</td>\n",
       "    </tr>\n",
       "    <tr>\n",
       "      <td>PERM_PEA02_PM01</td>\n",
       "      <td>01/01/2020</td>\n",
       "      <td>0:30:00</td>\n",
       "      <td>179.0</td>\n",
       "      <td>1.0</td>\n",
       "      <td>Centro</td>\n",
       "      <td>Calle Fuencarral</td>\n",
       "      <td>22.0</td>\n",
       "      <td>28004.0</td>\n",
       "      <td>Calle peatonal Datos en prueba</td>\n",
       "      <td>40,4220090</td>\n",
       "      <td>-3,7008917</td>\n",
       "    </tr>\n",
       "    <tr>\n",
       "      <td>PERM_PEA02_PM01</td>\n",
       "      <td>01/01/2020</td>\n",
       "      <td>0:45:00</td>\n",
       "      <td>174.0</td>\n",
       "      <td>1.0</td>\n",
       "      <td>Centro</td>\n",
       "      <td>Calle Fuencarral</td>\n",
       "      <td>22.0</td>\n",
       "      <td>28004.0</td>\n",
       "      <td>Calle peatonal Datos en prueba</td>\n",
       "      <td>40,4220090</td>\n",
       "      <td>-3,7008917</td>\n",
       "    </tr>\n",
       "    <tr>\n",
       "      <td>PERM_PEA02_PM01</td>\n",
       "      <td>01/01/2020</td>\n",
       "      <td>1:00:00</td>\n",
       "      <td>131.0</td>\n",
       "      <td>1.0</td>\n",
       "      <td>Centro</td>\n",
       "      <td>Calle Fuencarral</td>\n",
       "      <td>22.0</td>\n",
       "      <td>28004.0</td>\n",
       "      <td>Calle peatonal Datos en prueba</td>\n",
       "      <td>40,4220090</td>\n",
       "      <td>-3,7008917</td>\n",
       "    </tr>\n",
       "  </tbody>\n",
       "</table>\n",
       "</div>"
      ],
      "text/plain": [
       "                      FECHA     HORA  PEATONES  NÚMERO_DISTRITO DISTRITO  \\\n",
       "IDENTIFICADOR                                                              \n",
       "PERM_PEA02_PM01  01/01/2020  0:00:00     497.0              1.0   Centro   \n",
       "PERM_PEA02_PM01  01/01/2020  0:15:00     244.0              1.0   Centro   \n",
       "PERM_PEA02_PM01  01/01/2020  0:30:00     179.0              1.0   Centro   \n",
       "PERM_PEA02_PM01  01/01/2020  0:45:00     174.0              1.0   Centro   \n",
       "PERM_PEA02_PM01  01/01/2020  1:00:00     131.0              1.0   Centro   \n",
       "\n",
       "                      NOMBRE_VIAL  NÚMERO  CÓDIGO_POSTAL  \\\n",
       "IDENTIFICADOR                                              \n",
       "PERM_PEA02_PM01  Calle Fuencarral    22.0        28004.0   \n",
       "PERM_PEA02_PM01  Calle Fuencarral    22.0        28004.0   \n",
       "PERM_PEA02_PM01  Calle Fuencarral    22.0        28004.0   \n",
       "PERM_PEA02_PM01  Calle Fuencarral    22.0        28004.0   \n",
       "PERM_PEA02_PM01  Calle Fuencarral    22.0        28004.0   \n",
       "\n",
       "                        OBSERVACIONES_DIRECCION     LATITUD    LONGITUD  \n",
       "IDENTIFICADOR                                                            \n",
       "PERM_PEA02_PM01  Calle peatonal Datos en prueba  40,4220090  -3,7008917  \n",
       "PERM_PEA02_PM01  Calle peatonal Datos en prueba  40,4220090  -3,7008917  \n",
       "PERM_PEA02_PM01  Calle peatonal Datos en prueba  40,4220090  -3,7008917  \n",
       "PERM_PEA02_PM01  Calle peatonal Datos en prueba  40,4220090  -3,7008917  \n",
       "PERM_PEA02_PM01  Calle peatonal Datos en prueba  40,4220090  -3,7008917  "
      ]
     },
     "execution_count": 24,
     "metadata": {},
     "output_type": "execute_result"
    }
   ],
   "source": [
    "df.head()"
   ]
  },
  {
   "cell_type": "code",
   "execution_count": 25,
   "metadata": {},
   "outputs": [
    {
     "data": {
      "text/plain": [
       "(288755, 11)"
      ]
     },
     "execution_count": 25,
     "metadata": {},
     "output_type": "execute_result"
    }
   ],
   "source": [
    "df.shape"
   ]
  },
  {
   "cell_type": "code",
   "execution_count": 26,
   "metadata": {},
   "outputs": [
    {
     "data": {
      "text/plain": [
       "Index(['PERM_PEA02_PM01', 'PERM_PEA02_PM01', 'PERM_PEA02_PM01',\n",
       "       'PERM_PEA02_PM01', 'PERM_PEA02_PM01', 'PERM_PEA02_PM01',\n",
       "       'PERM_PEA02_PM01', 'PERM_PEA02_PM01', 'PERM_PEA02_PM01',\n",
       "       'PERM_PEA02_PM01',\n",
       "       ...\n",
       "       'PERM_PEA19_PM01', 'PERM_PEA19_PM01', 'PERM_PEA19_PM01',\n",
       "       'PERM_PEA19_PM01', 'PERM_PEA19_PM01', 'PERM_PEA19_PM01',\n",
       "       'PERM_PEA19_PM01', 'PERM_PEA19_PM01', 'PERM_PEA19_PM01',\n",
       "       'PERM_PEA19_PM01'],\n",
       "      dtype='object', name='IDENTIFICADOR', length=288755)"
      ]
     },
     "execution_count": 26,
     "metadata": {},
     "output_type": "execute_result"
    }
   ],
   "source": [
    "df.index"
   ]
  },
  {
   "cell_type": "code",
   "execution_count": 27,
   "metadata": {},
   "outputs": [
    {
     "data": {
      "text/plain": [
       "Index(['FECHA', 'HORA', 'PEATONES', 'NÚMERO_DISTRITO', 'DISTRITO',\n",
       "       'NOMBRE_VIAL', 'NÚMERO', 'CÓDIGO_POSTAL', 'OBSERVACIONES_DIRECCION',\n",
       "       'LATITUD', 'LONGITUD'],\n",
       "      dtype='object')"
      ]
     },
     "execution_count": 27,
     "metadata": {},
     "output_type": "execute_result"
    }
   ],
   "source": [
    "df.columns"
   ]
  },
  {
   "cell_type": "code",
   "execution_count": 28,
   "metadata": {},
   "outputs": [
    {
     "name": "stdout",
     "output_type": "stream",
     "text": [
      "<class 'pandas.core.frame.DataFrame'>\n",
      "Index: 288755 entries, PERM_PEA02_PM01 to PERM_PEA19_PM01\n",
      "Data columns (total 11 columns):\n",
      "FECHA                      288755 non-null object\n",
      "HORA                       288755 non-null object\n",
      "PEATONES                   288752 non-null float64\n",
      "NÚMERO_DISTRITO            284872 non-null float64\n",
      "DISTRITO                   284872 non-null object\n",
      "NOMBRE_VIAL                284872 non-null object\n",
      "NÚMERO                     284872 non-null float64\n",
      "CÓDIGO_POSTAL              284872 non-null float64\n",
      "OBSERVACIONES_DIRECCION    284872 non-null object\n",
      "LATITUD                    284872 non-null object\n",
      "LONGITUD                   284872 non-null object\n",
      "dtypes: float64(4), object(7)\n",
      "memory usage: 26.4+ MB\n"
     ]
    }
   ],
   "source": [
    "df.info()"
   ]
  },
  {
   "cell_type": "code",
   "execution_count": 29,
   "metadata": {},
   "outputs": [
    {
     "data": {
      "text/plain": [
       "FECHA                      288755\n",
       "HORA                       288755\n",
       "PEATONES                   288752\n",
       "NÚMERO_DISTRITO            284872\n",
       "DISTRITO                   284872\n",
       "NOMBRE_VIAL                284872\n",
       "NÚMERO                     284872\n",
       "CÓDIGO_POSTAL              284872\n",
       "OBSERVACIONES_DIRECCION    284872\n",
       "LATITUD                    284872\n",
       "LONGITUD                   284872\n",
       "dtype: int64"
      ]
     },
     "execution_count": 29,
     "metadata": {},
     "output_type": "execute_result"
    }
   ],
   "source": [
    "df.count()"
   ]
  },
  {
   "cell_type": "markdown",
   "metadata": {},
   "source": [
    "# Datos estadísticos Dataframe"
   ]
  },
  {
   "cell_type": "code",
   "execution_count": 30,
   "metadata": {},
   "outputs": [
    {
     "data": {
      "text/plain": [
       "130358649.0"
      ]
     },
     "execution_count": 30,
     "metadata": {},
     "output_type": "execute_result"
    }
   ],
   "source": [
    "df[\"PEATONES\"].sum()"
   ]
  },
  {
   "cell_type": "code",
   "execution_count": 31,
   "metadata": {},
   "outputs": [
    {
     "data": {
      "text/plain": [
       "451.455397711531"
      ]
     },
     "execution_count": 31,
     "metadata": {},
     "output_type": "execute_result"
    }
   ],
   "source": [
    "df[\"PEATONES\"].mean()"
   ]
  },
  {
   "cell_type": "code",
   "execution_count": 32,
   "metadata": {},
   "outputs": [
    {
     "data": {
      "text/plain": [
       "373.0"
      ]
     },
     "execution_count": 32,
     "metadata": {},
     "output_type": "execute_result"
    }
   ],
   "source": [
    "df[\"PEATONES\"].median()"
   ]
  },
  {
   "cell_type": "code",
   "execution_count": 33,
   "metadata": {},
   "outputs": [
    {
     "data": {
      "text/plain": [
       "956.0"
      ]
     },
     "execution_count": 33,
     "metadata": {},
     "output_type": "execute_result"
    }
   ],
   "source": [
    "df[\"PEATONES\"].quantile(0.9)"
   ]
  },
  {
   "cell_type": "code",
   "execution_count": 34,
   "metadata": {},
   "outputs": [
    {
     "data": {
      "text/plain": [
       "'01/01/2020'"
      ]
     },
     "execution_count": 34,
     "metadata": {},
     "output_type": "execute_result"
    }
   ],
   "source": [
    "df[\"FECHA\"].min()"
   ]
  },
  {
   "cell_type": "code",
   "execution_count": 35,
   "metadata": {},
   "outputs": [
    {
     "data": {
      "text/plain": [
       "'31/05/2020'"
      ]
     },
     "execution_count": 35,
     "metadata": {},
     "output_type": "execute_result"
    }
   ],
   "source": [
    "df[\"FECHA\"].max()"
   ]
  },
  {
   "cell_type": "code",
   "execution_count": 36,
   "metadata": {},
   "outputs": [
    {
     "data": {
      "text/html": [
       "<div>\n",
       "<style scoped>\n",
       "    .dataframe tbody tr th:only-of-type {\n",
       "        vertical-align: middle;\n",
       "    }\n",
       "\n",
       "    .dataframe tbody tr th {\n",
       "        vertical-align: top;\n",
       "    }\n",
       "\n",
       "    .dataframe thead th {\n",
       "        text-align: right;\n",
       "    }\n",
       "</style>\n",
       "<table border=\"1\" class=\"dataframe\">\n",
       "  <thead>\n",
       "    <tr style=\"text-align: right;\">\n",
       "      <th></th>\n",
       "      <th>PEATONES</th>\n",
       "      <th>NÚMERO_DISTRITO</th>\n",
       "      <th>NÚMERO</th>\n",
       "      <th>CÓDIGO_POSTAL</th>\n",
       "    </tr>\n",
       "  </thead>\n",
       "  <tbody>\n",
       "    <tr>\n",
       "      <td>count</td>\n",
       "      <td>288752.000000</td>\n",
       "      <td>284872.000000</td>\n",
       "      <td>284872.000000</td>\n",
       "      <td>284872.000000</td>\n",
       "    </tr>\n",
       "    <tr>\n",
       "      <td>mean</td>\n",
       "      <td>451.455398</td>\n",
       "      <td>2.648786</td>\n",
       "      <td>27.223181</td>\n",
       "      <td>28010.099557</td>\n",
       "    </tr>\n",
       "    <tr>\n",
       "      <td>std</td>\n",
       "      <td>366.229982</td>\n",
       "      <td>2.999406</td>\n",
       "      <td>24.671420</td>\n",
       "      <td>4.296102</td>\n",
       "    </tr>\n",
       "    <tr>\n",
       "      <td>min</td>\n",
       "      <td>1.000000</td>\n",
       "      <td>1.000000</td>\n",
       "      <td>1.000000</td>\n",
       "      <td>28001.000000</td>\n",
       "    </tr>\n",
       "    <tr>\n",
       "      <td>25%</td>\n",
       "      <td>142.000000</td>\n",
       "      <td>1.000000</td>\n",
       "      <td>4.000000</td>\n",
       "      <td>28005.000000</td>\n",
       "    </tr>\n",
       "    <tr>\n",
       "      <td>50%</td>\n",
       "      <td>373.000000</td>\n",
       "      <td>1.000000</td>\n",
       "      <td>22.000000</td>\n",
       "      <td>28012.000000</td>\n",
       "    </tr>\n",
       "    <tr>\n",
       "      <td>75%</td>\n",
       "      <td>680.000000</td>\n",
       "      <td>2.000000</td>\n",
       "      <td>37.000000</td>\n",
       "      <td>28013.000000</td>\n",
       "    </tr>\n",
       "    <tr>\n",
       "      <td>max</td>\n",
       "      <td>4759.000000</td>\n",
       "      <td>10.000000</td>\n",
       "      <td>91.000000</td>\n",
       "      <td>28015.000000</td>\n",
       "    </tr>\n",
       "  </tbody>\n",
       "</table>\n",
       "</div>"
      ],
      "text/plain": [
       "            PEATONES  NÚMERO_DISTRITO         NÚMERO  CÓDIGO_POSTAL\n",
       "count  288752.000000    284872.000000  284872.000000  284872.000000\n",
       "mean      451.455398         2.648786      27.223181   28010.099557\n",
       "std       366.229982         2.999406      24.671420       4.296102\n",
       "min         1.000000         1.000000       1.000000   28001.000000\n",
       "25%       142.000000         1.000000       4.000000   28005.000000\n",
       "50%       373.000000         1.000000      22.000000   28012.000000\n",
       "75%       680.000000         2.000000      37.000000   28013.000000\n",
       "max      4759.000000        10.000000      91.000000   28015.000000"
      ]
     },
     "execution_count": 36,
     "metadata": {},
     "output_type": "execute_result"
    }
   ],
   "source": [
    "df.describe()"
   ]
  },
  {
   "cell_type": "code",
   "execution_count": 37,
   "metadata": {},
   "outputs": [],
   "source": [
    "df[\"PEATONES_cum\"] = df[\"PEATONES\"].cumsum()"
   ]
  },
  {
   "cell_type": "code",
   "execution_count": 38,
   "metadata": {},
   "outputs": [
    {
     "data": {
      "text/html": [
       "<div>\n",
       "<style scoped>\n",
       "    .dataframe tbody tr th:only-of-type {\n",
       "        vertical-align: middle;\n",
       "    }\n",
       "\n",
       "    .dataframe tbody tr th {\n",
       "        vertical-align: top;\n",
       "    }\n",
       "\n",
       "    .dataframe thead th {\n",
       "        text-align: right;\n",
       "    }\n",
       "</style>\n",
       "<table border=\"1\" class=\"dataframe\">\n",
       "  <thead>\n",
       "    <tr style=\"text-align: right;\">\n",
       "      <th></th>\n",
       "      <th>FECHA</th>\n",
       "      <th>HORA</th>\n",
       "      <th>PEATONES</th>\n",
       "      <th>NÚMERO_DISTRITO</th>\n",
       "      <th>DISTRITO</th>\n",
       "      <th>NOMBRE_VIAL</th>\n",
       "      <th>NÚMERO</th>\n",
       "      <th>CÓDIGO_POSTAL</th>\n",
       "      <th>OBSERVACIONES_DIRECCION</th>\n",
       "      <th>LATITUD</th>\n",
       "      <th>LONGITUD</th>\n",
       "      <th>PEATONES_cum</th>\n",
       "    </tr>\n",
       "    <tr>\n",
       "      <th>IDENTIFICADOR</th>\n",
       "      <th></th>\n",
       "      <th></th>\n",
       "      <th></th>\n",
       "      <th></th>\n",
       "      <th></th>\n",
       "      <th></th>\n",
       "      <th></th>\n",
       "      <th></th>\n",
       "      <th></th>\n",
       "      <th></th>\n",
       "      <th></th>\n",
       "      <th></th>\n",
       "    </tr>\n",
       "  </thead>\n",
       "  <tbody>\n",
       "    <tr>\n",
       "      <td>PERM_PEA02_PM01</td>\n",
       "      <td>01/01/2020</td>\n",
       "      <td>0:00:00</td>\n",
       "      <td>497.0</td>\n",
       "      <td>1.0</td>\n",
       "      <td>Centro</td>\n",
       "      <td>Calle Fuencarral</td>\n",
       "      <td>22.0</td>\n",
       "      <td>28004.0</td>\n",
       "      <td>Calle peatonal Datos en prueba</td>\n",
       "      <td>40,4220090</td>\n",
       "      <td>-3,7008917</td>\n",
       "      <td>497.0</td>\n",
       "    </tr>\n",
       "    <tr>\n",
       "      <td>PERM_PEA02_PM01</td>\n",
       "      <td>01/01/2020</td>\n",
       "      <td>0:15:00</td>\n",
       "      <td>244.0</td>\n",
       "      <td>1.0</td>\n",
       "      <td>Centro</td>\n",
       "      <td>Calle Fuencarral</td>\n",
       "      <td>22.0</td>\n",
       "      <td>28004.0</td>\n",
       "      <td>Calle peatonal Datos en prueba</td>\n",
       "      <td>40,4220090</td>\n",
       "      <td>-3,7008917</td>\n",
       "      <td>741.0</td>\n",
       "    </tr>\n",
       "    <tr>\n",
       "      <td>PERM_PEA02_PM01</td>\n",
       "      <td>01/01/2020</td>\n",
       "      <td>0:30:00</td>\n",
       "      <td>179.0</td>\n",
       "      <td>1.0</td>\n",
       "      <td>Centro</td>\n",
       "      <td>Calle Fuencarral</td>\n",
       "      <td>22.0</td>\n",
       "      <td>28004.0</td>\n",
       "      <td>Calle peatonal Datos en prueba</td>\n",
       "      <td>40,4220090</td>\n",
       "      <td>-3,7008917</td>\n",
       "      <td>920.0</td>\n",
       "    </tr>\n",
       "    <tr>\n",
       "      <td>PERM_PEA02_PM01</td>\n",
       "      <td>01/01/2020</td>\n",
       "      <td>0:45:00</td>\n",
       "      <td>174.0</td>\n",
       "      <td>1.0</td>\n",
       "      <td>Centro</td>\n",
       "      <td>Calle Fuencarral</td>\n",
       "      <td>22.0</td>\n",
       "      <td>28004.0</td>\n",
       "      <td>Calle peatonal Datos en prueba</td>\n",
       "      <td>40,4220090</td>\n",
       "      <td>-3,7008917</td>\n",
       "      <td>1094.0</td>\n",
       "    </tr>\n",
       "    <tr>\n",
       "      <td>PERM_PEA02_PM01</td>\n",
       "      <td>01/01/2020</td>\n",
       "      <td>1:00:00</td>\n",
       "      <td>131.0</td>\n",
       "      <td>1.0</td>\n",
       "      <td>Centro</td>\n",
       "      <td>Calle Fuencarral</td>\n",
       "      <td>22.0</td>\n",
       "      <td>28004.0</td>\n",
       "      <td>Calle peatonal Datos en prueba</td>\n",
       "      <td>40,4220090</td>\n",
       "      <td>-3,7008917</td>\n",
       "      <td>1225.0</td>\n",
       "    </tr>\n",
       "  </tbody>\n",
       "</table>\n",
       "</div>"
      ],
      "text/plain": [
       "                      FECHA     HORA  PEATONES  NÚMERO_DISTRITO DISTRITO  \\\n",
       "IDENTIFICADOR                                                              \n",
       "PERM_PEA02_PM01  01/01/2020  0:00:00     497.0              1.0   Centro   \n",
       "PERM_PEA02_PM01  01/01/2020  0:15:00     244.0              1.0   Centro   \n",
       "PERM_PEA02_PM01  01/01/2020  0:30:00     179.0              1.0   Centro   \n",
       "PERM_PEA02_PM01  01/01/2020  0:45:00     174.0              1.0   Centro   \n",
       "PERM_PEA02_PM01  01/01/2020  1:00:00     131.0              1.0   Centro   \n",
       "\n",
       "                      NOMBRE_VIAL  NÚMERO  CÓDIGO_POSTAL  \\\n",
       "IDENTIFICADOR                                              \n",
       "PERM_PEA02_PM01  Calle Fuencarral    22.0        28004.0   \n",
       "PERM_PEA02_PM01  Calle Fuencarral    22.0        28004.0   \n",
       "PERM_PEA02_PM01  Calle Fuencarral    22.0        28004.0   \n",
       "PERM_PEA02_PM01  Calle Fuencarral    22.0        28004.0   \n",
       "PERM_PEA02_PM01  Calle Fuencarral    22.0        28004.0   \n",
       "\n",
       "                        OBSERVACIONES_DIRECCION     LATITUD    LONGITUD  \\\n",
       "IDENTIFICADOR                                                             \n",
       "PERM_PEA02_PM01  Calle peatonal Datos en prueba  40,4220090  -3,7008917   \n",
       "PERM_PEA02_PM01  Calle peatonal Datos en prueba  40,4220090  -3,7008917   \n",
       "PERM_PEA02_PM01  Calle peatonal Datos en prueba  40,4220090  -3,7008917   \n",
       "PERM_PEA02_PM01  Calle peatonal Datos en prueba  40,4220090  -3,7008917   \n",
       "PERM_PEA02_PM01  Calle peatonal Datos en prueba  40,4220090  -3,7008917   \n",
       "\n",
       "                 PEATONES_cum  \n",
       "IDENTIFICADOR                  \n",
       "PERM_PEA02_PM01         497.0  \n",
       "PERM_PEA02_PM01         741.0  \n",
       "PERM_PEA02_PM01         920.0  \n",
       "PERM_PEA02_PM01        1094.0  \n",
       "PERM_PEA02_PM01        1225.0  "
      ]
     },
     "execution_count": 38,
     "metadata": {},
     "output_type": "execute_result"
    }
   ],
   "source": [
    "df.head()"
   ]
  },
  {
   "cell_type": "code",
   "execution_count": null,
   "metadata": {},
   "outputs": [],
   "source": []
  },
  {
   "cell_type": "code",
   "execution_count": null,
   "metadata": {},
   "outputs": [],
   "source": []
  }
 ],
 "metadata": {
  "kernelspec": {
   "display_name": "Python 3",
   "language": "python",
   "name": "python3"
  },
  "language_info": {
   "codemirror_mode": {
    "name": "ipython",
    "version": 3
   },
   "file_extension": ".py",
   "mimetype": "text/x-python",
   "name": "python",
   "nbconvert_exporter": "python",
   "pygments_lexer": "ipython3",
   "version": "3.7.3"
  }
 },
 "nbformat": 4,
 "nbformat_minor": 2
}
