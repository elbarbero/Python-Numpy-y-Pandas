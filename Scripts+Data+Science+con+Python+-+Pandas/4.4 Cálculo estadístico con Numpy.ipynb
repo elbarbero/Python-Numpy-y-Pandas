{
 "cells": [
  {
   "cell_type": "markdown",
   "metadata": {},
   "source": [
    "# Cálculo estadístico"
   ]
  },
  {
   "cell_type": "code",
   "execution_count": 1,
   "metadata": {},
   "outputs": [],
   "source": [
    "import numpy as np"
   ]
  },
  {
   "cell_type": "code",
   "execution_count": 2,
   "metadata": {},
   "outputs": [],
   "source": [
    "temp = np.array([12, 13.5, 13, 14, 13.2, 14.8, 15, 15.6, 16, 16.2, 15.7, 17, 17.2, 16.8, 14,14.2, 14.7,16,17.5, 18, 18.5, 17.5,17, 16.8, 17.2,17.5,18.2,18.5, 19, 18.6])"
   ]
  },
  {
   "cell_type": "code",
   "execution_count": 3,
   "metadata": {},
   "outputs": [],
   "source": [
    "temp_avg = np.mean(temp)"
   ]
  },
  {
   "cell_type": "code",
   "execution_count": 13,
   "metadata": {},
   "outputs": [
    {
     "data": {
      "text/plain": [
       "16.10666666666667"
      ]
     },
     "execution_count": 13,
     "metadata": {},
     "output_type": "execute_result"
    }
   ],
   "source": [
    "np.mean(temp)"
   ]
  },
  {
   "cell_type": "code",
   "execution_count": 5,
   "metadata": {},
   "outputs": [
    {
     "data": {
      "text/plain": [
       "16.5"
      ]
     },
     "execution_count": 5,
     "metadata": {},
     "output_type": "execute_result"
    }
   ],
   "source": [
    "np.median(temp)"
   ]
  },
  {
   "cell_type": "code",
   "execution_count": 6,
   "metadata": {},
   "outputs": [
    {
     "data": {
      "text/plain": [
       "19.0"
      ]
     },
     "execution_count": 6,
     "metadata": {},
     "output_type": "execute_result"
    }
   ],
   "source": [
    "np.max(temp)"
   ]
  },
  {
   "cell_type": "code",
   "execution_count": 7,
   "metadata": {},
   "outputs": [
    {
     "data": {
      "text/plain": [
       "12.0"
      ]
     },
     "execution_count": 7,
     "metadata": {},
     "output_type": "execute_result"
    }
   ],
   "source": [
    "np.min(temp)"
   ]
  },
  {
   "cell_type": "code",
   "execution_count": 8,
   "metadata": {},
   "outputs": [
    {
     "data": {
      "text/plain": [
       "3.480622222222223"
      ]
     },
     "execution_count": 8,
     "metadata": {},
     "output_type": "execute_result"
    }
   ],
   "source": [
    "np.var(temp)"
   ]
  },
  {
   "cell_type": "code",
   "execution_count": 9,
   "metadata": {},
   "outputs": [
    {
     "data": {
      "text/plain": [
       "1.8656425762246698"
      ]
     },
     "execution_count": 9,
     "metadata": {},
     "output_type": "execute_result"
    }
   ],
   "source": [
    "np.std(temp)"
   ]
  },
  {
   "cell_type": "code",
   "execution_count": 12,
   "metadata": {},
   "outputs": [
    {
     "data": {
      "text/plain": [
       "18.5"
      ]
     },
     "execution_count": 12,
     "metadata": {},
     "output_type": "execute_result"
    }
   ],
   "source": [
    "np.percentile(temp,90)"
   ]
  },
  {
   "cell_type": "markdown",
   "metadata": {},
   "source": [
    "# Generar secuencias"
   ]
  },
  {
   "cell_type": "code",
   "execution_count": 35,
   "metadata": {},
   "outputs": [],
   "source": [
    "array_gaus=np.random.normal(2, 0.5, 1000)"
   ]
  },
  {
   "cell_type": "code",
   "execution_count": 27,
   "metadata": {},
   "outputs": [
    {
     "data": {
      "text/plain": [
       "array([2.19531837, 1.54893028, 1.84174814, 2.71252481, 1.78945017,\n",
       "       1.16268791, 2.46759922, 2.41621972, 1.28684017, 2.23130793,\n",
       "       2.09491099, 2.46795843, 1.96403028, 2.02750671, 1.75079085,\n",
       "       2.5899993 , 1.56008728, 1.164454  , 2.33810322, 1.89490481,\n",
       "       1.88453102, 2.67632767, 1.84736897, 1.8542424 , 1.39079344,\n",
       "       2.15690501, 1.73025284, 2.7754719 , 2.04859684, 1.94547824,\n",
       "       0.87679857, 2.34229649, 2.1228844 , 1.26602608, 2.20146826,\n",
       "       2.48883442, 2.85425271, 2.71963614, 2.24809112, 2.81917752,\n",
       "       1.87916421, 1.7405027 , 1.54689144, 2.03739449, 2.75952405,\n",
       "       1.88569036, 1.84373247, 2.02509188, 1.75365256, 2.24203324,\n",
       "       2.10704141, 1.92574762, 1.38780252, 2.39752816, 2.10716858,\n",
       "       2.13182693, 2.33117295, 2.16443958, 1.67299997, 1.66932945,\n",
       "       1.6492649 , 2.58752937, 1.91900059, 1.93346217, 2.12764473,\n",
       "       1.70315536, 1.33809121, 2.1560502 , 2.43501958, 2.22134755,\n",
       "       1.78431443, 1.65916513, 1.61913641, 1.4010404 , 0.94603863,\n",
       "       1.54680675, 3.07668221, 2.23106935, 1.76364306, 2.26277779,\n",
       "       1.91418254, 2.00371678, 2.54976657, 1.36856749, 1.99605979,\n",
       "       1.87989039, 1.14796156, 1.36898177, 1.72329343, 1.63086428,\n",
       "       1.94021016, 1.58267271, 2.01643331, 2.03488019, 1.91802927,\n",
       "       1.52178905, 1.79240451, 2.49602711, 1.78267474, 2.01762059,\n",
       "       2.81426642, 2.85263615, 2.39398864, 2.5062138 , 0.92443695,\n",
       "       2.58664364, 1.60265832, 1.24767818, 1.5934033 , 2.1913677 ,\n",
       "       1.78530462, 1.1343482 , 2.34932377, 1.75495528, 2.35656023,\n",
       "       1.38703056, 2.24269221, 1.7754928 , 2.55241769, 1.61199933,\n",
       "       1.99184949, 1.83455524, 2.58832145, 1.97925871, 1.75394399,\n",
       "       2.32669349, 2.21509445, 1.99084725, 2.52382119, 1.65909769,\n",
       "       2.134268  , 1.64371856, 2.57672022, 2.96053525, 2.16575907,\n",
       "       2.40963734, 1.70307266, 2.65402389, 1.43673187, 2.20158126,\n",
       "       2.57499333, 1.58030509, 1.99298185, 2.83993023, 2.25810811,\n",
       "       2.01788184, 2.08710633, 2.02897052, 1.40787593, 2.28142583,\n",
       "       1.76950136, 1.35567301, 2.67432412, 1.54859047, 1.50670194,\n",
       "       2.11314906, 1.38028975, 2.76360476, 1.74831322, 2.3193773 ,\n",
       "       2.53917031, 1.7558418 , 1.90592841, 1.87531927, 1.64918799,\n",
       "       1.80598379, 1.90938791, 0.96645174, 0.77976659, 1.58209365,\n",
       "       1.78925702, 1.30073709, 1.93838558, 1.4555157 , 1.91453576,\n",
       "       2.49728803, 1.77842697, 2.42622054, 1.78092258, 1.89823501,\n",
       "       1.69007285, 2.61370158, 1.91471885, 1.68673004, 2.27900045,\n",
       "       2.0736235 , 1.21339668, 1.65145541, 1.97339562, 2.05397703,\n",
       "       1.33240154, 1.74015145, 1.68917857, 2.09663193, 1.78591395,\n",
       "       1.87423813, 2.41206886, 2.63248978, 2.32011496, 1.84913717,\n",
       "       2.68233457, 1.60208615, 1.45455755, 2.02256721, 0.79201386,\n",
       "       2.32901686, 2.45609503, 1.98755973, 1.62794356, 2.19270033,\n",
       "       2.3206418 , 1.87562301, 2.13276612, 2.02554402, 2.05849624,\n",
       "       1.0737952 , 2.91146229, 2.70959988, 1.77105405, 2.42637466,\n",
       "       1.89374209, 1.92308089, 2.0459352 , 1.56573377, 1.50297372,\n",
       "       0.9653788 , 1.11487167, 2.39081605, 2.97912528, 1.39925688,\n",
       "       1.49994802, 2.81042456, 1.42594268, 2.3436573 , 2.70139825,\n",
       "       1.61905284, 1.65797884, 0.96669726, 1.48322393, 2.42609781,\n",
       "       1.31421422, 2.04189046, 1.67793247, 2.79034593, 2.35268294,\n",
       "       2.72972197, 2.88150139, 1.52230526, 1.98008981, 1.98285648,\n",
       "       1.90644663, 2.26908986, 0.99299153, 1.04079257, 1.57573475,\n",
       "       1.88186369, 2.19267564, 3.02757076, 1.68510479, 3.58863092,\n",
       "       2.30774586, 1.86980876, 2.05806134, 3.10895734, 1.22704968,\n",
       "       1.82885345, 2.17248566, 2.39447924, 1.35828455, 2.7513881 ,\n",
       "       0.87216607, 1.87851323, 2.15190502, 1.00087299, 1.63604618,\n",
       "       2.25274142, 2.24693406, 2.11981055, 3.03707579, 2.04968313,\n",
       "       1.14166382, 2.53928229, 2.64247694, 1.8705477 , 1.96060364,\n",
       "       2.018665  , 2.05192761, 1.83881357, 2.74055593, 1.57257983,\n",
       "       2.12953931, 2.67353523, 1.92462347, 2.21151714, 1.81550201,\n",
       "       2.09488423, 2.86287396, 2.28656038, 1.46666811, 1.4189761 ,\n",
       "       1.70002282, 2.69486456, 1.62426204, 1.55490079, 2.27889377,\n",
       "       1.97826592, 1.96915827, 1.5072337 , 2.27838136, 2.00128294,\n",
       "       2.64457297, 1.45704984, 1.65416963, 2.30740103, 1.76968113,\n",
       "       2.83932   , 2.10316235, 1.97400242, 2.09140841, 1.95294104,\n",
       "       1.65802892, 2.23793783, 2.33641892, 2.60996131, 2.00411476,\n",
       "       2.32715088, 3.41567051, 2.13029198, 2.23749758, 1.62751944,\n",
       "       2.38229292, 1.77355366, 1.87384658, 3.23940506, 1.83504274,\n",
       "       1.26822805, 2.09279586, 2.34680399, 1.71125478, 2.58800337,\n",
       "       2.52284873, 1.85463577, 2.11589336, 1.80400068, 1.83697612,\n",
       "       2.11608394, 1.44014965, 2.24060837, 1.79865613, 2.28564542,\n",
       "       1.43930885, 0.82337049, 2.11513747, 1.52807936, 1.63112596,\n",
       "       1.74143994, 2.07498481, 0.77173859, 2.46073613, 2.04862828,\n",
       "       3.06101248, 1.77607946, 1.26921307, 1.53046962, 2.30055549,\n",
       "       1.63557444, 1.54146494, 2.12171241, 1.33188637, 2.27072185,\n",
       "       2.14761127, 2.14221597, 1.94783791, 1.30168828, 1.6120409 ,\n",
       "       1.72491759, 2.08923942, 1.94761905, 2.07398827, 1.69928662,\n",
       "       0.91464432, 2.06037738, 2.34154562, 2.43346661, 0.93018104,\n",
       "       2.37410948, 1.97845711, 1.96467664, 2.365002  , 1.33135831,\n",
       "       1.49369777, 1.48674703, 1.61243532, 1.83414039, 2.22783351,\n",
       "       1.75611159, 2.30218688, 1.53937705, 1.47583263, 1.86640314,\n",
       "       1.41782629, 1.78703145, 1.57765856, 1.91224432, 2.0648596 ,\n",
       "       2.39043064, 1.2305959 , 1.24248965, 2.52833302, 2.18679752,\n",
       "       2.16014764, 1.43048913, 1.74910754, 2.45094988, 1.51780875,\n",
       "       1.83617208, 2.40560179, 2.58633282, 2.27295449, 3.3229593 ,\n",
       "       1.6851428 , 1.96249629, 2.03657824, 2.8124045 , 2.3060716 ,\n",
       "       1.70900556, 2.34071605, 2.24536855, 1.07168294, 2.61771615,\n",
       "       2.31931699, 2.17724129, 2.43206118, 2.32767162, 1.25444212,\n",
       "       2.1530861 , 1.07421554, 3.38180296, 2.22463651, 2.68675603,\n",
       "       2.70948264, 2.72019623, 2.00945251, 1.37896203, 1.11189734,\n",
       "       1.87876456, 2.00056312, 2.39346084, 2.23216436, 2.18398256,\n",
       "       2.15936246, 1.94506347, 2.31522473, 2.7704845 , 2.3424955 ,\n",
       "       1.31682007, 1.94716129, 1.72216319, 1.35246481, 3.07991431,\n",
       "       1.87547229, 2.04224749, 2.50656139, 1.69516202, 0.83672444,\n",
       "       1.60244615, 1.50184266, 1.87662507, 1.73072483, 1.43948012,\n",
       "       2.15371181, 1.89228679, 2.24954886, 1.68549867, 2.11362987,\n",
       "       2.52856501, 2.0773776 , 2.42796062, 1.270153  , 1.4423313 ,\n",
       "       1.81681752, 2.26574148, 2.00662572, 1.84427584, 1.46387524,\n",
       "       2.29443529, 1.63281578, 2.64315256, 1.37128426, 2.32356892,\n",
       "       2.13104352, 2.83125645, 1.68821877, 2.87803433, 1.65882165,\n",
       "       1.46886788, 1.86907092, 1.80983577, 2.74950656, 1.9040188 ,\n",
       "       1.56994762, 1.88172801, 1.9958612 , 1.17488943, 2.83351215,\n",
       "       2.54148379, 1.38108545, 2.31229596, 1.57376517, 2.6919482 ,\n",
       "       2.14384299, 1.61846739, 1.55679847, 2.17323394, 3.0037963 ,\n",
       "       1.44573657, 1.94901656, 2.13201944, 1.91091459, 2.35152173,\n",
       "       2.10791541, 1.81503329, 2.20819246, 1.82550534, 1.13981084,\n",
       "       2.8549527 , 1.8187962 , 2.19473658, 2.6466319 , 1.78141846,\n",
       "       2.15590313, 1.72720037, 1.67863353, 1.47404997, 1.96009761,\n",
       "       1.42011794, 2.54330229, 1.63387086, 1.95567301, 1.08539668,\n",
       "       1.48743768, 2.07642301, 1.45630989, 1.90403171, 2.38291907,\n",
       "       2.49496228, 2.29154313, 2.31866796, 1.53139858, 1.46977447,\n",
       "       2.58213949, 1.33760637, 1.17999047, 2.47995696, 2.34485043,\n",
       "       1.89424234, 1.97273085, 1.59225616, 2.16404821, 1.88831701,\n",
       "       2.09724431, 1.94969831, 1.90873853, 2.76002624, 2.63141466,\n",
       "       2.61716111, 2.09741236, 1.59689187, 1.72538028, 1.90403362,\n",
       "       2.20548684, 1.83876459, 1.81486719, 1.76329178, 1.75796812,\n",
       "       2.67187167, 2.80272003, 1.71675385, 2.50321558, 1.13974499,\n",
       "       2.74995873, 2.77498227, 1.61774209, 2.16968868, 2.33119077,\n",
       "       1.95735852, 2.54825334, 2.50023759, 2.90463326, 2.59308435,\n",
       "       2.26324864, 1.36312593, 1.97776651, 2.33460984, 1.69001037,\n",
       "       2.40156595, 1.30834328, 0.99778849, 0.89150448, 1.99820522,\n",
       "       2.16511177, 0.64423552, 1.94671198, 1.81136625, 1.68925127,\n",
       "       2.26682184, 2.83052627, 2.53912912, 1.7160765 , 2.51557922,\n",
       "       1.79147825, 1.87275178, 1.43621243, 2.123427  , 0.78127998,\n",
       "       1.8344263 , 2.41710398, 1.68886263, 2.92050909, 1.63130873,\n",
       "       2.5413621 , 2.00682223, 1.9010055 , 2.24275944, 2.18642668,\n",
       "       2.4486336 , 2.74481044, 1.86348589, 1.39577074, 2.7979002 ,\n",
       "       2.17646016, 2.40048229, 2.62563619, 3.45854689, 1.41469118,\n",
       "       2.60544927, 2.06072932, 2.66753677, 1.46494412, 2.18728727,\n",
       "       1.93237906, 2.62955421, 1.60219255, 1.90263723, 2.12493697,\n",
       "       2.07802852, 1.80957739, 1.89260749, 1.74177597, 2.56895934,\n",
       "       0.57674752, 2.18396155, 1.90265223, 2.63110208, 2.01713406,\n",
       "       1.91679508, 2.72644812, 2.53195953, 1.51591163, 2.0404544 ,\n",
       "       1.96313182, 1.99934359, 1.83916397, 1.43008539, 1.73388597,\n",
       "       2.23362152, 2.13651738, 2.34623569, 1.40933617, 2.02171025,\n",
       "       1.97555737, 2.39250005, 2.48564831, 2.17835976, 2.11195344,\n",
       "       1.05990258, 1.44825757, 2.56483587, 2.48544476, 2.97159833,\n",
       "       2.66030226, 1.63908815, 1.49999452, 2.6459577 , 2.16233361,\n",
       "       2.22232212, 2.89652486, 1.49733318, 2.09689511, 2.61873581,\n",
       "       1.57748368, 2.33439207, 1.68023107, 1.95490396, 2.67037576,\n",
       "       1.6986359 , 1.90239771, 1.95100542, 1.24528334, 1.91713499,\n",
       "       2.37148718, 2.03284091, 2.12467708, 1.44360675, 2.76122932,\n",
       "       2.67477379, 1.69435365, 1.8738215 , 1.13426452, 1.81017268,\n",
       "       2.48934089, 2.06142756, 2.47900676, 2.11922343, 2.82402938,\n",
       "       1.2838541 , 2.41609291, 1.69731654, 1.24643578, 2.26642336,\n",
       "       2.16691021, 1.9153085 , 1.68035873, 1.52424026, 1.98533808,\n",
       "       2.31039889, 2.44597604, 2.00166195, 1.83613897, 2.48487913,\n",
       "       2.16055504, 2.25701508, 1.62836345, 1.67269783, 2.03269951,\n",
       "       2.46356248, 1.79377877, 1.5216652 , 1.9317062 , 0.8113674 ,\n",
       "       2.17238968, 1.79055439, 1.27538761, 2.10941545, 1.5276221 ,\n",
       "       2.29456263, 2.08823786, 1.70962757, 2.19798103, 1.7320146 ,\n",
       "       1.94780309, 1.65692226, 2.32770556, 1.79589445, 2.24196337,\n",
       "       1.94217908, 1.65375738, 1.67327643, 1.04502787, 2.73913109,\n",
       "       1.84930515, 0.86001315, 2.17383969, 1.5525257 , 1.71207171,\n",
       "       1.37022134, 2.4423186 , 1.16810014, 1.72395583, 2.01399417,\n",
       "       1.76638458, 2.44631223, 2.04646017, 2.40387055, 1.57625007,\n",
       "       2.10253733, 2.2433768 , 1.21399959, 1.56606385, 1.32743961,\n",
       "       1.99897827, 2.37762774, 1.65860827, 1.35530429, 2.027789  ,\n",
       "       0.71762478, 2.29467793, 1.77203596, 1.64973428, 2.4609923 ,\n",
       "       2.42849913, 1.39096131, 1.63263171, 1.42869233, 2.04048085,\n",
       "       2.37010645, 1.63030417, 2.24292629, 2.10738247, 2.12851464,\n",
       "       1.33845699, 2.34479968, 2.06489333, 0.96520612, 1.43785781,\n",
       "       2.72746136, 2.06352398, 1.50367412, 2.97507573, 1.43214364,\n",
       "       3.25848635, 1.18330327, 2.61199379, 2.25556735, 2.01428676,\n",
       "       1.86280396, 0.60263584, 2.55101111, 1.63121987, 1.72639466,\n",
       "       1.82087149, 2.20859592, 1.1875346 , 1.48952614, 1.70614841,\n",
       "       2.45315705, 2.05591114, 2.20457921, 2.26605941, 2.06737927,\n",
       "       2.0408502 , 1.21738939, 2.11127691, 2.12564066, 1.53136019,\n",
       "       1.69514452, 2.76513481, 1.34793669, 1.69685682, 2.1352002 ,\n",
       "       1.6687786 , 1.82063932, 1.40749242, 0.71748909, 1.98649071,\n",
       "       1.95259366, 1.82818467, 2.32780593, 2.06110905, 1.52832282,\n",
       "       2.72880266, 1.18031535, 1.71234699, 2.35133375, 2.37892469,\n",
       "       1.62605338, 2.11121465, 1.88603823, 1.60817397, 1.42209571,\n",
       "       0.93296548, 1.93892145, 2.30178622, 1.89954628, 1.04177074,\n",
       "       1.57737007, 2.79890917, 1.15670526, 1.55634523, 1.9254075 ,\n",
       "       1.49616887, 2.83875462, 2.35403402, 2.05253344, 1.88860731,\n",
       "       0.67175035, 1.82226732, 1.95238742, 1.54988157, 1.95973519,\n",
       "       1.75037549, 2.6202367 , 2.0287575 , 2.69842857, 1.71678865,\n",
       "       2.4486904 , 2.32031721, 2.36318076, 2.20797328, 2.55039993,\n",
       "       2.03107356, 1.49020389, 1.91516164, 2.39640065, 2.50420074,\n",
       "       1.88331581, 1.71898778, 2.50653939, 2.44328636, 2.02687436,\n",
       "       1.91795977, 1.78398002, 2.48279485, 2.65769311, 1.86457384,\n",
       "       2.7670395 , 2.25636106, 1.96926923, 2.26711254, 1.88281954,\n",
       "       2.42916943, 2.53606318, 1.80963546, 1.43668786, 1.96344155,\n",
       "       2.45606229, 1.62592086, 1.93488788, 2.10113223, 2.37302322,\n",
       "       1.58907188, 2.09847999, 1.28263918, 2.75723395, 0.96202338,\n",
       "       2.43529558, 2.32052624, 1.74094364, 1.52403667, 2.58878103,\n",
       "       2.29087319, 2.0578363 , 1.85143397, 2.24294551, 1.94177819,\n",
       "       1.98598205, 2.53918202, 1.24689943, 2.86098934, 1.83666047,\n",
       "       1.54846011, 1.60459619, 2.65407854, 1.44742077, 1.63825578,\n",
       "       1.75570679, 1.56609947, 1.91391997, 2.50360073, 1.94687917,\n",
       "       1.76786968, 1.83617335, 1.80786566, 1.52580484, 2.03954917,\n",
       "       1.81957959, 2.63912311, 2.32629774, 2.17726898, 1.82512902,\n",
       "       1.82150506, 2.34497181, 2.05277939, 1.53736813, 1.8883579 ,\n",
       "       2.68579718, 2.52765481, 2.7881544 , 1.4750573 , 0.99508385,\n",
       "       1.82354599, 1.53024558, 1.90019475, 1.55169432, 2.30390927,\n",
       "       0.58504425, 2.01680193, 1.60750297, 1.3577804 , 2.47062858,\n",
       "       1.85955309, 2.09439437, 1.63501234, 1.78500882, 1.50588234,\n",
       "       2.95680652, 2.83432281, 1.62894721, 1.04673575, 2.71613866,\n",
       "       1.27032581, 1.942466  , 1.31264702, 0.39188305, 1.65035996,\n",
       "       2.15126764, 2.0194191 , 1.84097843, 2.15410255, 2.4236016 ])"
      ]
     },
     "execution_count": 27,
     "metadata": {},
     "output_type": "execute_result"
    }
   ],
   "source": [
    "array_gaus"
   ]
  },
  {
   "cell_type": "code",
   "execution_count": 33,
   "metadata": {},
   "outputs": [
    {
     "data": {
      "text/plain": [
       "1.997615467111104"
      ]
     },
     "execution_count": 33,
     "metadata": {},
     "output_type": "execute_result"
    }
   ],
   "source": [
    "np.mean(array_gaus)"
   ]
  },
  {
   "cell_type": "code",
   "execution_count": 34,
   "metadata": {},
   "outputs": [
    {
     "data": {
      "text/plain": [
       "0.49612541360457574"
      ]
     },
     "execution_count": 34,
     "metadata": {},
     "output_type": "execute_result"
    }
   ],
   "source": [
    "np.std(array_gaus)"
   ]
  },
  {
   "cell_type": "code",
   "execution_count": 23,
   "metadata": {},
   "outputs": [],
   "source": [
    "rango_95 = [np.mean(array_gaus)-2*np.std(array_gaus), np.mean(array_gaus)+2*np.std(array_gaus)]"
   ]
  },
  {
   "cell_type": "code",
   "execution_count": 24,
   "metadata": {},
   "outputs": [
    {
     "data": {
      "text/plain": [
       "[0.9941702291759823, 2.986894268984872]"
      ]
     },
     "execution_count": 24,
     "metadata": {},
     "output_type": "execute_result"
    }
   ],
   "source": [
    "rango_95"
   ]
  },
  {
   "cell_type": "code",
   "execution_count": 31,
   "metadata": {},
   "outputs": [
    {
     "data": {
      "text/plain": [
       "<matplotlib.collections.PathCollection at 0x244e358ef28>"
      ]
     },
     "execution_count": 31,
     "metadata": {},
     "output_type": "execute_result"
    },
    {
     "data": {
      "image/png": "[encoded data removed]",
      "text/plain": [
       "<Figure size 432x288 with 1 Axes>"
      ]
     },
     "metadata": {
      "needs_background": "light"
     },
     "output_type": "display_data"
    }
   ],
   "source": [
    "import matplotlib.pyplot as plt\n",
    "import scipy.stats as stats\n",
    "plt.scatter(array_gaus, stats.norm.pdf(array_gaus, np.mean(array_gaus), np.std(array_gaus)))"
   ]
  },
  {
   "cell_type": "markdown",
   "metadata": {},
   "source": [
    "# Ejercicio"
   ]
  },
  {
   "cell_type": "code",
   "execution_count": 36,
   "metadata": {},
   "outputs": [],
   "source": [
    "array_gaus_2=np.random.normal(3, 1.5, 10000)"
   ]
  },
  {
   "cell_type": "code",
   "execution_count": 38,
   "metadata": {},
   "outputs": [],
   "source": [
    "media = np.mean(array_gaus_2)"
   ]
  },
  {
   "cell_type": "code",
   "execution_count": 39,
   "metadata": {},
   "outputs": [],
   "source": [
    "desv_est = np.std(array_gaus_2)"
   ]
  },
  {
   "cell_type": "code",
   "execution_count": 40,
   "metadata": {},
   "outputs": [],
   "source": [
    "rango_95 = [media-2*desv_est, media+2*desv_est]"
   ]
  },
  {
   "cell_type": "code",
   "execution_count": 41,
   "metadata": {},
   "outputs": [
    {
     "data": {
      "text/plain": [
       "[-0.03748381813514223, 6.015381950484478]"
      ]
     },
     "execution_count": 41,
     "metadata": {},
     "output_type": "execute_result"
    }
   ],
   "source": [
    "rango_95"
   ]
  },
  {
   "cell_type": "code",
   "execution_count": 42,
   "metadata": {},
   "outputs": [
    {
     "data": {
      "text/plain": [
       "<matplotlib.collections.PathCollection at 0x244e3603438>"
      ]
     },
     "execution_count": 42,
     "metadata": {},
     "output_type": "execute_result"
    },
    {
     "data": {
      "image/png": "[encoded data removed]",
      "text/plain": [
       "<Figure size 432x288 with 1 Axes>"
      ]
     },
     "metadata": {
      "needs_background": "light"
     },
     "output_type": "display_data"
    }
   ],
   "source": [
    "import matplotlib.pyplot as plt\n",
    "import scipy.stats as stats\n",
    "plt.scatter(array_gaus_2, stats.norm.pdf(array_gaus_2, media, desv_est))"
   ]
  },
  {
   "cell_type": "code",
   "execution_count": null,
   "metadata": {},
   "outputs": [],
   "source": []
  },
  {
   "cell_type": "code",
   "execution_count": null,
   "metadata": {},
   "outputs": [],
   "source": []
  }
 ],
 "metadata": {
  "kernelspec": {
   "display_name": "Python 3",
   "language": "python",
   "name": "python3"
  },
  "language_info": {
   "codemirror_mode": {
    "name": "ipython",
    "version": 3
   },
   "file_extension": ".py",
   "mimetype": "text/x-python",
   "name": "python",
   "nbconvert_exporter": "python",
   "pygments_lexer": "ipython3",
   "version": "3.7.3"
  }
 },
 "nbformat": 4,
 "nbformat_minor": 2
}
