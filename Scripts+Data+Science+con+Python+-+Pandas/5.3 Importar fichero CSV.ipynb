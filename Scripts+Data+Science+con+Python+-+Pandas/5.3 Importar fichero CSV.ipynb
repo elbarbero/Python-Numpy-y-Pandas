{
 "cells": [
  {
   "cell_type": "code",
   "execution_count": 1,
   "metadata": {},
   "outputs": [],
   "source": [
    "import pandas as pd"
   ]
  },
  {
   "cell_type": "code",
   "execution_count": 20,
   "metadata": {},
   "outputs": [],
   "source": [
    "df = pd.read_csv(r'C:\\Users\\ivan_pinar\\Dropbox\\Creación de MOCs\\MOC Master Python Análisis de Datos\\Datasets\\5.3\\PEATONES_2020.csv', encoding = \"ISO-8859-1\",delimiter=\";\",index_col=2,nrows=10000)"
   ]
  },
  {
   "cell_type": "code",
   "execution_count": 21,
   "metadata": {},
   "outputs": [
    {
     "data": {
      "text/html": [
       "<div>\n",
       "<style scoped>\n",
       "    .dataframe tbody tr th:only-of-type {\n",
       "        vertical-align: middle;\n",
       "    }\n",
       "\n",
       "    .dataframe tbody tr th {\n",
       "        vertical-align: top;\n",
       "    }\n",
       "\n",
       "    .dataframe thead th {\n",
       "        text-align: right;\n",
       "    }\n",
       "</style>\n",
       "<table border=\"1\" class=\"dataframe\">\n",
       "  <thead>\n",
       "    <tr style=\"text-align: right;\">\n",
       "      <th></th>\n",
       "      <th>FECHA</th>\n",
       "      <th>HORA</th>\n",
       "      <th>PEATONES</th>\n",
       "      <th>NÚMERO_DISTRITO</th>\n",
       "      <th>DISTRITO</th>\n",
       "      <th>NOMBRE_VIAL</th>\n",
       "      <th>NÚMERO</th>\n",
       "      <th>CÓDIGO_POSTAL</th>\n",
       "      <th>OBSERVACIONES_DIRECCION</th>\n",
       "      <th>LATITUD</th>\n",
       "      <th>LONGITUD</th>\n",
       "    </tr>\n",
       "    <tr>\n",
       "      <th>IDENTIFICADOR</th>\n",
       "      <th></th>\n",
       "      <th></th>\n",
       "      <th></th>\n",
       "      <th></th>\n",
       "      <th></th>\n",
       "      <th></th>\n",
       "      <th></th>\n",
       "      <th></th>\n",
       "      <th></th>\n",
       "      <th></th>\n",
       "      <th></th>\n",
       "    </tr>\n",
       "  </thead>\n",
       "  <tbody>\n",
       "    <tr>\n",
       "      <td>PERM_PEA02_PM01</td>\n",
       "      <td>01/01/2020</td>\n",
       "      <td>0:00:00</td>\n",
       "      <td>497</td>\n",
       "      <td>1</td>\n",
       "      <td>Centro</td>\n",
       "      <td>Calle Fuencarral</td>\n",
       "      <td>22</td>\n",
       "      <td>28004</td>\n",
       "      <td>Calle peatonal Datos en prueba</td>\n",
       "      <td>40,4220090</td>\n",
       "      <td>-3,7008917</td>\n",
       "    </tr>\n",
       "    <tr>\n",
       "      <td>PERM_PEA02_PM01</td>\n",
       "      <td>01/01/2020</td>\n",
       "      <td>0:15:00</td>\n",
       "      <td>244</td>\n",
       "      <td>1</td>\n",
       "      <td>Centro</td>\n",
       "      <td>Calle Fuencarral</td>\n",
       "      <td>22</td>\n",
       "      <td>28004</td>\n",
       "      <td>Calle peatonal Datos en prueba</td>\n",
       "      <td>40,4220090</td>\n",
       "      <td>-3,7008917</td>\n",
       "    </tr>\n",
       "    <tr>\n",
       "      <td>PERM_PEA02_PM01</td>\n",
       "      <td>01/01/2020</td>\n",
       "      <td>0:30:00</td>\n",
       "      <td>179</td>\n",
       "      <td>1</td>\n",
       "      <td>Centro</td>\n",
       "      <td>Calle Fuencarral</td>\n",
       "      <td>22</td>\n",
       "      <td>28004</td>\n",
       "      <td>Calle peatonal Datos en prueba</td>\n",
       "      <td>40,4220090</td>\n",
       "      <td>-3,7008917</td>\n",
       "    </tr>\n",
       "    <tr>\n",
       "      <td>PERM_PEA02_PM01</td>\n",
       "      <td>01/01/2020</td>\n",
       "      <td>0:45:00</td>\n",
       "      <td>174</td>\n",
       "      <td>1</td>\n",
       "      <td>Centro</td>\n",
       "      <td>Calle Fuencarral</td>\n",
       "      <td>22</td>\n",
       "      <td>28004</td>\n",
       "      <td>Calle peatonal Datos en prueba</td>\n",
       "      <td>40,4220090</td>\n",
       "      <td>-3,7008917</td>\n",
       "    </tr>\n",
       "    <tr>\n",
       "      <td>PERM_PEA02_PM01</td>\n",
       "      <td>01/01/2020</td>\n",
       "      <td>1:00:00</td>\n",
       "      <td>131</td>\n",
       "      <td>1</td>\n",
       "      <td>Centro</td>\n",
       "      <td>Calle Fuencarral</td>\n",
       "      <td>22</td>\n",
       "      <td>28004</td>\n",
       "      <td>Calle peatonal Datos en prueba</td>\n",
       "      <td>40,4220090</td>\n",
       "      <td>-3,7008917</td>\n",
       "    </tr>\n",
       "  </tbody>\n",
       "</table>\n",
       "</div>"
      ],
      "text/plain": [
       "                      FECHA     HORA  PEATONES  NÚMERO_DISTRITO DISTRITO  \\\n",
       "IDENTIFICADOR                                                              \n",
       "PERM_PEA02_PM01  01/01/2020  0:00:00       497                1   Centro   \n",
       "PERM_PEA02_PM01  01/01/2020  0:15:00       244                1   Centro   \n",
       "PERM_PEA02_PM01  01/01/2020  0:30:00       179                1   Centro   \n",
       "PERM_PEA02_PM01  01/01/2020  0:45:00       174                1   Centro   \n",
       "PERM_PEA02_PM01  01/01/2020  1:00:00       131                1   Centro   \n",
       "\n",
       "                      NOMBRE_VIAL  NÚMERO  CÓDIGO_POSTAL  \\\n",
       "IDENTIFICADOR                                              \n",
       "PERM_PEA02_PM01  Calle Fuencarral      22          28004   \n",
       "PERM_PEA02_PM01  Calle Fuencarral      22          28004   \n",
       "PERM_PEA02_PM01  Calle Fuencarral      22          28004   \n",
       "PERM_PEA02_PM01  Calle Fuencarral      22          28004   \n",
       "PERM_PEA02_PM01  Calle Fuencarral      22          28004   \n",
       "\n",
       "                        OBSERVACIONES_DIRECCION     LATITUD    LONGITUD  \n",
       "IDENTIFICADOR                                                            \n",
       "PERM_PEA02_PM01  Calle peatonal Datos en prueba  40,4220090  -3,7008917  \n",
       "PERM_PEA02_PM01  Calle peatonal Datos en prueba  40,4220090  -3,7008917  \n",
       "PERM_PEA02_PM01  Calle peatonal Datos en prueba  40,4220090  -3,7008917  \n",
       "PERM_PEA02_PM01  Calle peatonal Datos en prueba  40,4220090  -3,7008917  \n",
       "PERM_PEA02_PM01  Calle peatonal Datos en prueba  40,4220090  -3,7008917  "
      ]
     },
     "execution_count": 21,
     "metadata": {},
     "output_type": "execute_result"
    }
   ],
   "source": [
    "df.head()"
   ]
  },
  {
   "cell_type": "code",
   "execution_count": 22,
   "metadata": {},
   "outputs": [
    {
     "name": "stdout",
     "output_type": "stream",
     "text": [
      "<class 'pandas.core.frame.DataFrame'>\n",
      "Index: 10000 entries, PERM_PEA02_PM01 to PERM_PEA04_PM01\n",
      "Data columns (total 11 columns):\n",
      "FECHA                      10000 non-null object\n",
      "HORA                       10000 non-null object\n",
      "PEATONES                   10000 non-null int64\n",
      "NÚMERO_DISTRITO            10000 non-null int64\n",
      "DISTRITO                   10000 non-null object\n",
      "NOMBRE_VIAL                10000 non-null object\n",
      "NÚMERO                     10000 non-null int64\n",
      "CÓDIGO_POSTAL              10000 non-null int64\n",
      "OBSERVACIONES_DIRECCION    10000 non-null object\n",
      "LATITUD                    10000 non-null object\n",
      "LONGITUD                   10000 non-null object\n",
      "dtypes: int64(4), object(7)\n",
      "memory usage: 937.5+ KB\n"
     ]
    }
   ],
   "source": [
    "df.info()"
   ]
  },
  {
   "cell_type": "code",
   "execution_count": null,
   "metadata": {},
   "outputs": [],
   "source": []
  },
  {
   "cell_type": "code",
   "execution_count": null,
   "metadata": {},
   "outputs": [],
   "source": []
  },
  {
   "cell_type": "code",
   "execution_count": null,
   "metadata": {},
   "outputs": [],
   "source": []
  }
 ],
 "metadata": {
  "kernelspec": {
   "display_name": "Python 3",
   "language": "python",
   "name": "python3"
  },
  "language_info": {
   "codemirror_mode": {
    "name": "ipython",
    "version": 3
   },
   "file_extension": ".py",
   "mimetype": "text/x-python",
   "name": "python",
   "nbconvert_exporter": "python",
   "pygments_lexer": "ipython3",
   "version": "3.7.3"
  }
 },
 "nbformat": 4,
 "nbformat_minor": 2
}
